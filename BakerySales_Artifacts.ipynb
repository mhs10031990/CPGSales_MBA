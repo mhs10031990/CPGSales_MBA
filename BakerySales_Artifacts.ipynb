{
 "cells": [
  {
   "cell_type": "code",
   "execution_count": 1,
   "id": "4c7c2570",
   "metadata": {},
   "outputs": [],
   "source": [
    "import warnings\n",
    "warnings.filterwarnings('ignore')"
   ]
  },
  {
   "cell_type": "code",
   "execution_count": 2,
   "id": "6736b161",
   "metadata": {
    "scrolled": false
   },
   "outputs": [
    {
     "name": "stderr",
     "output_type": "stream",
     "text": [
      "Matplotlib created a temporary config/cache directory at /tmp/matplotlib-o18ex94j because the default path (/home/mosaic-ai/.config/matplotlib) is not a writable directory; it is highly recommended to set the MPLCONFIGDIR environment variable to a writable directory, in particular to speed up the import of Matplotlib and to better support multiprocessing.\n"
     ]
    }
   ],
   "source": [
    "import numpy as np \n",
    "import pandas as pd \n",
    "import matplotlib.pyplot as plt\n",
    "%matplotlib inline"
   ]
  },
  {
   "cell_type": "code",
   "execution_count": 3,
   "id": "4bf07452",
   "metadata": {},
   "outputs": [],
   "source": [
    "from mosaicml.api import add_artifacts\n",
    "from PIL import Image"
   ]
  },
  {
   "cell_type": "code",
   "execution_count": 4,
   "id": "07ebc66d",
   "metadata": {},
   "outputs": [],
   "source": [
    "model_id = \"f42e748d-fc7a-4f25-95d0-6a0f65754865\"\n",
    "version_id = \"38f3bd7d-8551-4be0-afc9-89b9d57c6779\""
   ]
  },
  {
   "cell_type": "code",
   "execution_count": 5,
   "id": "6758a27f",
   "metadata": {},
   "outputs": [],
   "source": [
    "coffee_acf_pacf = Image.open('/data/Charts/coffee_acf_pacf.png')\n",
    "tea_acf_pacf = Image.open('/data/Charts/tea_acf_pacf.png')\n",
    "bread_acf_pacf = Image.open('/data/Charts/bread_acf_pacf.png')\n",
    "\n",
    "coffee_sarimax_forecast = Image.open('/data/Charts/coffee_sarimax_forecast.png')\n",
    "tea_sarimax_forecast = Image.open('/data/Charts/tea_sarimax_forecast.png')\n",
    "bread_sarimax_forecast = Image.open('/data/Charts/bread_sarimax_forecast.png')"
   ]
  },
  {
   "cell_type": "code",
   "execution_count": 6,
   "id": "78625338",
   "metadata": {
    "scrolled": true
   },
   "outputs": [
    {
     "data": {
      "text/plain": [
       "{'ml_model_id': 'f42e748d-fc7a-4f25-95d0-6a0f65754865',\n",
       " 'tag': 'Coffee SARIMAX Forecast',\n",
       " 'version_id': '38f3bd7d-8551-4be0-afc9-89b9d57c6779'}"
      ]
     },
     "execution_count": 6,
     "metadata": {},
     "output_type": "execute_result"
    }
   ],
   "source": [
    "add_artifacts(\"Coffee ACT & PACF Chart\",coffee_acf_pacf, ml_model_id=model_id, version_id = version_id)\n",
    "add_artifacts(\"Coffee SARIMAX Forecast\",coffee_sarimax_forecast, ml_model_id=model_id, version_id = version_id)"
   ]
  },
  {
   "cell_type": "code",
   "execution_count": 7,
   "id": "b67a0fb5",
   "metadata": {},
   "outputs": [
    {
     "data": {
      "text/plain": [
       "{'ml_model_id': 'f42e748d-fc7a-4f25-95d0-6a0f65754865',\n",
       " 'tag': 'Tea SARIMAX Forecast',\n",
       " 'version_id': '38f3bd7d-8551-4be0-afc9-89b9d57c6779'}"
      ]
     },
     "execution_count": 7,
     "metadata": {},
     "output_type": "execute_result"
    }
   ],
   "source": [
    "add_artifacts(\"Tea ACF & PACF Chart\", tea_acf_pacf, ml_model_id=model_id, version_id = version_id)\n",
    "add_artifacts(\"Tea SARIMAX Forecast\", tea_sarimax_forecast, ml_model_id=model_id, version_id = version_id)"
   ]
  },
  {
   "cell_type": "code",
   "execution_count": 8,
   "id": "c80ff1fa",
   "metadata": {},
   "outputs": [
    {
     "data": {
      "text/plain": [
       "{'ml_model_id': 'f42e748d-fc7a-4f25-95d0-6a0f65754865',\n",
       " 'tag': 'Bread SARIMAX Forecast',\n",
       " 'version_id': '38f3bd7d-8551-4be0-afc9-89b9d57c6779'}"
      ]
     },
     "execution_count": 8,
     "metadata": {},
     "output_type": "execute_result"
    }
   ],
   "source": [
    "add_artifacts(\"Bread ACF & PACF Chart\", bread_acf_pacf, ml_model_id=model_id, version_id = version_id)\n",
    "add_artifacts(\"Bread SARIMAX Forecast\", bread_sarimax_forecast, ml_model_id=model_id, version_id = version_id)"
   ]
  }
 ],
 "metadata": {
  "kernelspec": {
   "display_name": "Python 3",
   "language": "python",
   "name": "python3"
  },
  "language_info": {
   "codemirror_mode": {
    "name": "ipython",
    "version": 3
   },
   "file_extension": ".py",
   "mimetype": "text/x-python",
   "name": "python",
   "nbconvert_exporter": "python",
   "pygments_lexer": "ipython3",
   "version": "3.6.15"
  }
 },
 "nbformat": 4,
 "nbformat_minor": 5
}
