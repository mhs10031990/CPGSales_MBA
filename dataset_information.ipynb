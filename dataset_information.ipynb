{
 "cells": [
  {
   "cell_type": "markdown",
   "id": "4a0d1a7c",
   "metadata": {},
   "source": [
    "# The bakery sales dataset has 21293 rows.\n",
    "It contains four variables: Date, Time, Transaction ID and Item.\n",
    "Date:\n",
    "Categorical variable about the date of the transactions (YYYY-MM-DD format). The column starts from 30/10/2016 to 09/04/2017.\n",
    "\n",
    "Time:\n",
    "Categorical variable about the time of the transactions (HH:MM:SS format).\n",
    "\n",
    "Transaction:\n",
    "Quantitative variable that allows us to differentiate the transactions. The rows that share the same value in this field belong to the same transaction. In other words, 1 person has more than 1 item.\n",
    "\n",
    "Item:\n",
    "Categorical variable with the products."
   ]
  }
 ],
 "metadata": {
  "kernelspec": {
   "display_name": "Python 3",
   "language": "python",
   "name": "python3"
  },
  "language_info": {
   "codemirror_mode": {
    "name": "ipython",
    "version": 3
   },
   "file_extension": ".py",
   "mimetype": "text/x-python",
   "name": "python",
   "nbconvert_exporter": "python",
   "pygments_lexer": "ipython3",
   "version": "3.6.15"
  }
 },
 "nbformat": 4,
 "nbformat_minor": 5
}
