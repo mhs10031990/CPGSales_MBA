{
 "cells": [
  {
   "cell_type": "code",
   "execution_count": null,
   "id": "c2405b03",
   "metadata": {},
   "outputs": [
    {
     "name": "stdout",
     "output_type": "stream",
     "text": [
      "WARNING: pip is being invoked by an old script wrapper. This will fail in a future version of pip.\n",
      "Please see https://github.com/pypa/pip/issues/5599 for advice on fixing the underlying issue.\n",
      "To avoid this problem you can invoke Python with '-m pip' instead of running pip directly.\n",
      "\u001b[31m  ERROR: Command errored out with exit status 1:\n",
      "   command: /opt/conda/bin/python3.6 /tmp/pip_packages/pip install --ignore-installed --no-user --prefix /tmp/pip-build-env-9ph2dsu7/overlay --no-warn-script-location --no-binary :none: --only-binary :none: -i https://pypi.org/simple -- setuptools==59.2.0 wheel==0.37.0 'cmake>=3.1' pip 'scikit-build>=0.13.2' 'numpy==1.13.3; python_version=='\"'\"'3.6'\"'\"' and platform_machine != '\"'\"'aarch64'\"'\"' and platform_machine != '\"'\"'arm64'\"'\"'' 'numpy==1.17.0; python_version=='\"'\"'3.7'\"'\"' and platform_machine != '\"'\"'aarch64'\"'\"' and platform_machine != '\"'\"'arm64'\"'\"'' 'numpy==1.17.3; python_version=='\"'\"'3.8'\"'\"' and platform_machine != '\"'\"'aarch64'\"'\"' and platform_machine != '\"'\"'arm64'\"'\"'' 'numpy==1.19.3; python_version<='\"'\"'3.9'\"'\"' and sys_platform == '\"'\"'linux'\"'\"' and platform_machine == '\"'\"'aarch64'\"'\"'' 'numpy==1.21.0; python_version<='\"'\"'3.9'\"'\"' and sys_platform == '\"'\"'darwin'\"'\"' and platform_machine == '\"'\"'arm64'\"'\"'' 'numpy==1.19.3; python_version=='\"'\"'3.9'\"'\"' and platform_machine != '\"'\"'aarch64'\"'\"' and platform_machine != '\"'\"'arm64'\"'\"'' 'numpy==1.21.2; python_version>='\"'\"'3.10'\"'\"'' 'numpy==1.21.4; python_version>='\"'\"'3.10'\"'\"' and platform_system=='\"'\"'Darwin'\"'\"''\n",
      "       cwd: None\n",
      "  Complete output (29 lines):\n",
      "  Ignoring numpy: markers 'python_version == \"3.7\" and platform_machine != \"aarch64\" and platform_machine != \"arm64\"' don't match your environment\n",
      "  Ignoring numpy: markers 'python_version == \"3.8\" and platform_machine != \"aarch64\" and platform_machine != \"arm64\"' don't match your environment\n",
      "  Ignoring numpy: markers 'python_version <= \"3.9\" and sys_platform == \"linux\" and platform_machine == \"aarch64\"' don't match your environment\n",
      "  Ignoring numpy: markers 'python_version <= \"3.9\" and sys_platform == \"darwin\" and platform_machine == \"arm64\"' don't match your environment\n",
      "  Ignoring numpy: markers 'python_version == \"3.9\" and platform_machine != \"aarch64\" and platform_machine != \"arm64\"' don't match your environment\n",
      "  Ignoring numpy: markers 'python_version >= \"3.10\"' don't match your environment\n",
      "  Ignoring numpy: markers 'python_version >= \"3.10\" and platform_system == \"Darwin\"' don't match your environment\n",
      "  Collecting setuptools==59.2.0\n",
      "    Using cached setuptools-59.2.0-py3-none-any.whl (952 kB)\n",
      "  Collecting wheel==0.37.0\n",
      "    Using cached wheel-0.37.0-py2.py3-none-any.whl (35 kB)\n",
      "  Collecting cmake>=3.1\n",
      "    Using cached cmake-3.25.0-py2.py3-none-manylinux_2_17_x86_64.manylinux2014_x86_64.whl (23.7 MB)\n",
      "  Collecting pip\n",
      "    Using cached pip-21.3.1-py3-none-any.whl (1.7 MB)\n",
      "  Collecting scikit-build>=0.13.2\n",
      "    Using cached scikit_build-0.16.4-py3-none-any.whl (78 kB)\n",
      "  Collecting numpy==1.13.3\n",
      "    Using cached numpy-1.13.3-cp36-cp36m-manylinux1_x86_64.whl (17.0 MB)\n",
      "  Collecting typing-extensions>=3.7\n",
      "    Using cached typing_extensions-4.1.1-py3-none-any.whl (26 kB)\n",
      "  Collecting packaging\n",
      "    Using cached packaging-21.3-py3-none-any.whl (40 kB)\n",
      "  Collecting distro\n",
      "    Using cached distro-1.8.0-py3-none-any.whl (20 kB)\n",
      "  Collecting pyparsing!=3.0.5,>=2.0.2\n",
      "    Using cached pyparsing-3.0.9-py3-none-any.whl (98 kB)\n",
      "  Installing collected packages: pyparsing, wheel, typing-extensions, setuptools, packaging, distro, scikit-build, pip, numpy, cmake\n",
      "  ERROR: Cannot set --home and --prefix together\n",
      "  ----------------------------------------\u001b[0m\n",
      "\u001b[33mWARNING: Discarding https://files.pythonhosted.org/packages/33/92/87e99adfaf9c847021ecfcd4bf2732c863752cf47c0c9ad349c8de260183/opencv-python-4.7.0.68.tar.gz#sha256=9829e6efedde1d1b8419c5bd4d62d289ecbf44ae35b843c6da9e3cbcba1a9a8a (from https://pypi.org/simple/opencv-python/) (requires-python:>=3.6). Command errored out with exit status 1: /opt/conda/bin/python3.6 /tmp/pip_packages/pip install --ignore-installed --no-user --prefix /tmp/pip-build-env-9ph2dsu7/overlay --no-warn-script-location --no-binary :none: --only-binary :none: -i https://pypi.org/simple -- setuptools==59.2.0 wheel==0.37.0 'cmake>=3.1' pip 'scikit-build>=0.13.2' 'numpy==1.13.3; python_version=='\"'\"'3.6'\"'\"' and platform_machine != '\"'\"'aarch64'\"'\"' and platform_machine != '\"'\"'arm64'\"'\"'' 'numpy==1.17.0; python_version=='\"'\"'3.7'\"'\"' and platform_machine != '\"'\"'aarch64'\"'\"' and platform_machine != '\"'\"'arm64'\"'\"'' 'numpy==1.17.3; python_version=='\"'\"'3.8'\"'\"' and platform_machine != '\"'\"'aarch64'\"'\"' and platform_machine != '\"'\"'arm64'\"'\"'' 'numpy==1.19.3; python_version<='\"'\"'3.9'\"'\"' and sys_platform == '\"'\"'linux'\"'\"' and platform_machine == '\"'\"'aarch64'\"'\"'' 'numpy==1.21.0; python_version<='\"'\"'3.9'\"'\"' and sys_platform == '\"'\"'darwin'\"'\"' and platform_machine == '\"'\"'arm64'\"'\"'' 'numpy==1.19.3; python_version=='\"'\"'3.9'\"'\"' and platform_machine != '\"'\"'aarch64'\"'\"' and platform_machine != '\"'\"'arm64'\"'\"'' 'numpy==1.21.2; python_version>='\"'\"'3.10'\"'\"'' 'numpy==1.21.4; python_version>='\"'\"'3.10'\"'\"' and platform_system=='\"'\"'Darwin'\"'\"'' Check the logs for full command output.\u001b[0m\n"
     ]
    }
   ],
   "source": [
    "!pip install autogluon -q"
   ]
  },
  {
   "cell_type": "code",
   "execution_count": 1,
   "id": "b63018e9",
   "metadata": {},
   "outputs": [
    {
     "ename": "ModuleNotFoundError",
     "evalue": "No module named 'autogluon.timeseries'",
     "output_type": "error",
     "traceback": [
      "\u001b[0;31m---------------------------------------------------------------------------\u001b[0m",
      "\u001b[0;31mModuleNotFoundError\u001b[0m                       Traceback (most recent call last)",
      "\u001b[0;32m<ipython-input-1-104faf1bdc3b>\u001b[0m in \u001b[0;36m<module>\u001b[0;34m\u001b[0m\n\u001b[0;32m----> 1\u001b[0;31m \u001b[0;32mfrom\u001b[0m \u001b[0mautogluon\u001b[0m\u001b[0;34m.\u001b[0m\u001b[0mtimeseries\u001b[0m \u001b[0;32mimport\u001b[0m \u001b[0mTimeSeriesDataFrame\u001b[0m\u001b[0;34m,\u001b[0m \u001b[0mTimeSeriesPredictor\u001b[0m\u001b[0;34m\u001b[0m\u001b[0;34m\u001b[0m\u001b[0m\n\u001b[0m",
      "\u001b[0;31mModuleNotFoundError\u001b[0m: No module named 'autogluon.timeseries'"
     ]
    }
   ],
   "source": [
    "from autogluon.timeseries import TimeSeriesDataFrame, TimeSeriesPredictor"
   ]
  },
  {
   "cell_type": "code",
   "execution_count": null,
   "id": "d2faed79",
   "metadata": {},
   "outputs": [],
   "source": []
  },
  {
   "cell_type": "code",
   "execution_count": null,
   "id": "caf5e299",
   "metadata": {},
   "outputs": [],
   "source": []
  },
  {
   "cell_type": "code",
   "execution_count": null,
   "id": "50234ef0",
   "metadata": {},
   "outputs": [],
   "source": []
  },
  {
   "cell_type": "code",
   "execution_count": null,
   "id": "af995a6a",
   "metadata": {},
   "outputs": [],
   "source": []
  },
  {
   "cell_type": "code",
   "execution_count": null,
   "id": "d9a1934e",
   "metadata": {},
   "outputs": [],
   "source": []
  },
  {
   "cell_type": "code",
   "execution_count": null,
   "id": "75e89e1d",
   "metadata": {},
   "outputs": [],
   "source": []
  },
  {
   "cell_type": "code",
   "execution_count": null,
   "id": "b395a84f",
   "metadata": {},
   "outputs": [],
   "source": []
  },
  {
   "cell_type": "code",
   "execution_count": null,
   "id": "6066f005",
   "metadata": {},
   "outputs": [],
   "source": []
  }
 ],
 "metadata": {
  "kernelspec": {
   "display_name": "Python 3",
   "language": "python",
   "name": "python3"
  },
  "language_info": {
   "codemirror_mode": {
    "name": "ipython",
    "version": 3
   },
   "file_extension": ".py",
   "mimetype": "text/x-python",
   "name": "python",
   "nbconvert_exporter": "python",
   "pygments_lexer": "ipython3",
   "version": "3.6.15"
  }
 },
 "nbformat": 4,
 "nbformat_minor": 5
}
