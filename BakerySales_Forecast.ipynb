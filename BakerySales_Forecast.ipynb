{
 "cells": [
  {
   "cell_type": "code",
   "execution_count": 2,
   "id": "6736b161",
   "metadata": {},
   "outputs": [],
   "source": [
    "import numpy as np # linear algebra\n",
    "import pandas as pd # data processing, CSV file I/O (e.g. pd.read_csv)\n",
    "import os"
   ]
  },
  {
   "cell_type": "code",
   "execution_count": 4,
   "id": "9b783349",
   "metadata": {},
   "outputs": [
    {
     "data": {
      "text/html": [
       "<div>\n",
       "<style scoped>\n",
       "    .dataframe tbody tr th:only-of-type {\n",
       "        vertical-align: middle;\n",
       "    }\n",
       "\n",
       "    .dataframe tbody tr th {\n",
       "        vertical-align: top;\n",
       "    }\n",
       "\n",
       "    .dataframe thead th {\n",
       "        text-align: right;\n",
       "    }\n",
       "</style>\n",
       "<table border=\"1\" class=\"dataframe\">\n",
       "  <thead>\n",
       "    <tr style=\"text-align: right;\">\n",
       "      <th></th>\n",
       "      <th>Date</th>\n",
       "      <th>Time</th>\n",
       "      <th>Transaction</th>\n",
       "      <th>Item</th>\n",
       "    </tr>\n",
       "  </thead>\n",
       "  <tbody>\n",
       "    <tr>\n",
       "      <th>0</th>\n",
       "      <td>2016-10-30</td>\n",
       "      <td>09:58:11</td>\n",
       "      <td>1</td>\n",
       "      <td>Bread</td>\n",
       "    </tr>\n",
       "    <tr>\n",
       "      <th>1</th>\n",
       "      <td>2016-10-30</td>\n",
       "      <td>10:05:34</td>\n",
       "      <td>2</td>\n",
       "      <td>Scandinavian</td>\n",
       "    </tr>\n",
       "    <tr>\n",
       "      <th>2</th>\n",
       "      <td>2016-10-30</td>\n",
       "      <td>10:05:34</td>\n",
       "      <td>2</td>\n",
       "      <td>Scandinavian</td>\n",
       "    </tr>\n",
       "    <tr>\n",
       "      <th>3</th>\n",
       "      <td>2016-10-30</td>\n",
       "      <td>10:07:57</td>\n",
       "      <td>3</td>\n",
       "      <td>Hot chocolate</td>\n",
       "    </tr>\n",
       "    <tr>\n",
       "      <th>4</th>\n",
       "      <td>2016-10-30</td>\n",
       "      <td>10:07:57</td>\n",
       "      <td>3</td>\n",
       "      <td>Jam</td>\n",
       "    </tr>\n",
       "  </tbody>\n",
       "</table>\n",
       "</div>"
      ],
      "text/plain": [
       "         Date      Time  Transaction           Item\n",
       "0  2016-10-30  09:58:11            1          Bread\n",
       "1  2016-10-30  10:05:34            2   Scandinavian\n",
       "2  2016-10-30  10:05:34            2   Scandinavian\n",
       "3  2016-10-30  10:07:57            3  Hot chocolate\n",
       "4  2016-10-30  10:07:57            3            Jam"
      ]
     },
     "execution_count": 4,
     "metadata": {},
     "output_type": "execute_result"
    }
   ],
   "source": [
    "df = pd.read_csv(\"/data/BreadBasket_DMS.csv\")\n",
    "df.head()"
   ]
  },
  {
   "cell_type": "code",
   "execution_count": 5,
   "id": "7ee295d6",
   "metadata": {},
   "outputs": [],
   "source": [
    "df = df.query(\"Item!='NONE'\")"
   ]
  },
  {
   "cell_type": "code",
   "execution_count": 6,
   "id": "4d5b7bb5",
   "metadata": {},
   "outputs": [
    {
     "name": "stdout",
     "output_type": "stream",
     "text": [
      "<class 'pandas.core.frame.DataFrame'>\n",
      "Int64Index: 20507 entries, 0 to 21292\n",
      "Data columns (total 4 columns):\n",
      " #   Column       Non-Null Count  Dtype \n",
      "---  ------       --------------  ----- \n",
      " 0   Date         20507 non-null  object\n",
      " 1   Time         20507 non-null  object\n",
      " 2   Transaction  20507 non-null  int64 \n",
      " 3   Item         20507 non-null  object\n",
      "dtypes: int64(1), object(3)\n",
      "memory usage: 801.1+ KB\n"
     ]
    }
   ],
   "source": [
    "df.info()\n",
    "df[\"Qty\"]=1"
   ]
  },
  {
   "cell_type": "code",
   "execution_count": 7,
   "id": "206c48f6",
   "metadata": {},
   "outputs": [],
   "source": [
    "daily_items = df.groupby([\"Date\",\"Item\"])[\"Qty\"].sum().reset_index()"
   ]
  },
  {
   "cell_type": "code",
   "execution_count": null,
   "id": "06b76c9e",
   "metadata": {},
   "outputs": [],
   "source": [
    "#Filtering Top 3 product\n",
    "top_items = daily_items.groupby(\"Item\")[\"Qty\"].sum().sort_values(ascending=False)[0:3].index\n",
    "top_items"
   ]
  },
  {
   "cell_type": "code",
   "execution_count": null,
   "id": "e2c1e687",
   "metadata": {},
   "outputs": [],
   "source": [
    "top_daily_items = daily_items[daily_items[\"Item\"].isin(top_items)]\n",
    "top_daily_items"
   ]
  },
  {
   "cell_type": "code",
   "execution_count": null,
   "id": "8f0f0523",
   "metadata": {},
   "outputs": [],
   "source": [
    "top_daily_items = top_daily_items.sort_values(by=[\"Item\",\"Date\"])\n",
    "top_daily_items"
   ]
  },
  {
   "cell_type": "code",
   "execution_count": null,
   "id": "3e7983c1",
   "metadata": {},
   "outputs": [],
   "source": [
    "top_daily_items[\"Date\"] = pd.to_datetime(top_daily_items[\"Date\"])\n",
    "top_daily_items.info()"
   ]
  },
  {
   "cell_type": "code",
   "execution_count": null,
   "id": "342c6096",
   "metadata": {},
   "outputs": [],
   "source": [
    "df_1 = top_daily_items[top_daily_items['Item'] == \"Coffee\"]\n",
    "df_2 = top_daily_items[top_daily_items['Item'] == \"Tea\"]\n",
    "df_3 = top_daily_items[top_daily_items['Item'] == \"Bread\"]"
   ]
  },
  {
   "cell_type": "code",
   "execution_count": null,
   "id": "457e2181",
   "metadata": {},
   "outputs": [],
   "source": []
  },
  {
   "cell_type": "code",
   "execution_count": null,
   "id": "26615178",
   "metadata": {},
   "outputs": [],
   "source": []
  },
  {
   "cell_type": "code",
   "execution_count": null,
   "id": "41381ef5",
   "metadata": {},
   "outputs": [],
   "source": []
  },
  {
   "cell_type": "code",
   "execution_count": null,
   "id": "f435d8c8",
   "metadata": {},
   "outputs": [],
   "source": []
  },
  {
   "cell_type": "code",
   "execution_count": null,
   "id": "9038e907",
   "metadata": {},
   "outputs": [],
   "source": []
  },
  {
   "cell_type": "code",
   "execution_count": null,
   "id": "8324e829",
   "metadata": {},
   "outputs": [],
   "source": []
  },
  {
   "cell_type": "code",
   "execution_count": null,
   "id": "85ede8cf",
   "metadata": {},
   "outputs": [],
   "source": []
  },
  {
   "cell_type": "code",
   "execution_count": null,
   "id": "2ddc4ac4",
   "metadata": {},
   "outputs": [],
   "source": []
  },
  {
   "cell_type": "code",
   "execution_count": null,
   "id": "e605a652",
   "metadata": {},
   "outputs": [],
   "source": []
  },
  {
   "cell_type": "code",
   "execution_count": null,
   "id": "2765ac9d",
   "metadata": {},
   "outputs": [],
   "source": []
  }
 ],
 "metadata": {
  "kernelspec": {
   "display_name": "Python 3",
   "language": "python",
   "name": "python3"
  },
  "language_info": {
   "codemirror_mode": {
    "name": "ipython",
    "version": 3
   },
   "file_extension": ".py",
   "mimetype": "text/x-python",
   "name": "python",
   "nbconvert_exporter": "python",
   "pygments_lexer": "ipython3",
   "version": "3.6.15"
  }
 },
 "nbformat": 4,
 "nbformat_minor": 5
}
